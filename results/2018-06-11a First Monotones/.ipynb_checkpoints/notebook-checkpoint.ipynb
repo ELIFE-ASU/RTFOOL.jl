{
 "cells": [
  {
   "cell_type": "markdown",
   "metadata": {},
   "source": [
    "# Exploring the Relative Entropy Monotone"
   ]
  },
  {
   "cell_type": "code",
   "execution_count": 1,
   "metadata": {},
   "outputs": [
    {
     "data": {
      "text/plain": [
       "Plots.GRBackend()"
      ]
     },
     "execution_count": 1,
     "metadata": {},
     "output_type": "execute_result"
    }
   ],
   "source": [
    "using Plots, RTFOOL, Base.Test\n",
    "gr()"
   ]
  },
  {
   "cell_type": "markdown",
   "metadata": {},
   "source": [
    "We start out by loading up energies for our system. Specifically, we will load the dissociated and liquid water energies into `Ew` and the monomer and dimer energies into `Em`."
   ]
  },
  {
   "cell_type": "code",
   "execution_count": 2,
   "metadata": {},
   "outputs": [
    {
     "data": {
      "text/plain": [
       "([0.263758, -2.23803], [-3.43351, -2.18262])"
      ]
     },
     "execution_count": 2,
     "metadata": {},
     "output_type": "execute_result"
    }
   ],
   "source": [
    "Ew, Em = let E = readdlm(\"energies.dat\")\n",
    "    E[1:2], E[3:4]\n",
    "end"
   ]
  },
  {
   "cell_type": "markdown",
   "metadata": {},
   "source": [
    "**Note** We determined the energy of a dissociated water molecule in a *very* naive way:\n",
    "$$\n",
    "E_2 + E_{liq} = 2E_1 + E_{dis}\n",
    "$$\n",
    "This was mostly for simplicities sake. We'll use a more robust method for further investigation."
   ]
  },
  {
   "cell_type": "markdown",
   "metadata": {},
   "source": [
    "These energies are in electron-volts at $30^\\circ C$, so we need to initialize $\\beta$ accordingly."
   ]
  },
  {
   "cell_type": "code",
   "execution_count": 3,
   "metadata": {},
   "outputs": [
    {
     "data": {
      "text/html": [
       "0.026123436804449996"
      ],
      "text/plain": [
       "0.026123436804449996"
      ]
     },
     "execution_count": 3,
     "metadata": {},
     "output_type": "execute_result"
    }
   ],
   "source": [
    "const k = 8.6173303e-5 # eV/K\n",
    "const T = 30 + 273.15  # 30° C in K\n",
    "const β = k*T"
   ]
  },
  {
   "cell_type": "markdown",
   "metadata": {},
   "source": [
    "## Simple dimer example"
   ]
  },
  {
   "cell_type": "markdown",
   "metadata": {},
   "source": [
    "We'll start out with our simple dimer example with $2$ dimers and $2$ water molecules."
   ]
  },
  {
   "cell_type": "code",
   "execution_count": 4,
   "metadata": {},
   "outputs": [],
   "source": [
    "const Nm, Nw = 2, 2;"
   ]
  },
  {
   "cell_type": "markdown",
   "metadata": {},
   "source": [
    "### System StateSpace"
   ]
  },
  {
   "cell_type": "code",
   "execution_count": 5,
   "metadata": {},
   "outputs": [
    {
     "data": {
      "text/plain": [
       "RTFOOL.StateSpace{4}(NTuple{4,Int64}[(2, 2, 2, 1), (1, 1, 1, 1)], [-6.33951, -6.33951], BigInt[2, 1])"
      ]
     },
     "execution_count": 5,
     "metadata": {},
     "output_type": "execute_result"
    }
   ],
   "source": [
    "sys = StateSpace(Em, Nm, Ew, Nw)"
   ]
  },
  {
   "cell_type": "markdown",
   "metadata": {},
   "source": [
    "We see that there are two macroscopic configurations: `(2,2,2,1)` and `(1,1,1,1)` which correspond to `dimer + liq + dis` and `2monomer + 2dis`, respectively. The energies of these macrostates are the same due to how we computed $E_{dis}$ (see previous section). However, the dimer macrostate has 2 microstates corresponding to the choice of which water molecule to dissociate. Strictly speaking, there is some amount of unenumerated degeneracy in the second macrostate corresponding the the choice of which water molecule to bind to which monomer, or even which hydrogen/hydroxide to bind to which monomer. We're neglecting this for now. It would be fairly straightforward to account for this."
   ]
  },
  {
   "cell_type": "markdown",
   "metadata": {},
   "source": [
    "### Thermalization Context"
   ]
  },
  {
   "cell_type": "markdown",
   "metadata": {},
   "source": [
    "We now construct a thermalization `Context` in which to run our simulation. This will collect a system `StateSpace`, a system state (i.e. a distribution over the system's state), and a bath `StateSpace`. At construction, this will build the bath's Gibbs state, identify all of the possible swaps, and compute the probability of each swap."
   ]
  },
  {
   "cell_type": "code",
   "execution_count": 6,
   "metadata": {},
   "outputs": [],
   "source": [
    "ctx = Context(β, sys, [0.0, 1.0]);"
   ]
  },
  {
   "cell_type": "markdown",
   "metadata": {},
   "source": [
    "Here we are using the same state space for both the system and the bath. We are starting our system out in the pure state with 2 free monomers. We can access the bath's state as"
   ]
  },
  {
   "cell_type": "code",
   "execution_count": 7,
   "metadata": {},
   "outputs": [
    {
     "data": {
      "text/plain": [
       "2-element Array{Float64,1}:\n",
       " 0.666667\n",
       " 0.333333"
      ]
     },
     "execution_count": 7,
     "metadata": {},
     "output_type": "execute_result"
    }
   ],
   "source": [
    "ctx.bath_state"
   ]
  },
  {
   "cell_type": "markdown",
   "metadata": {},
   "source": [
    "Note that the bath state is not uniform despite the macrostates having the same energy; this is due to the configuration's distinct degeneracies. We can also access which states are admissible"
   ]
  },
  {
   "cell_type": "code",
   "execution_count": 8,
   "metadata": {},
   "outputs": [
    {
     "data": {
      "text/plain": [
       "1-element Array{Tuple{Tuple{Int64,Int64},Tuple{Int64,Int64}},1}:\n",
       " ((1, 2), (2, 1))"
      ]
     },
     "execution_count": 8,
     "metadata": {},
     "output_type": "execute_result"
    }
   ],
   "source": [
    "ctx.degeneracies"
   ]
  },
  {
   "cell_type": "markdown",
   "metadata": {},
   "source": [
    "We will be changing the name of this field to `swaps` or something similar. The name at the moment makes explicit the point that swaps are determined by the degenerate composite system-bath states. We can in this case that there is exactly one admissible swap: `(1,2) ↔ (2,1)`. Each pair corresponds to a composite system-bath state. For example, `(1,2)` represents the tensor product state $e^s_1 \\otimes e^b_2$ where $e^s_i$ and $e^b_j$ are pure states of the system and bath, respectively."
   ]
  },
  {
   "cell_type": "markdown",
   "metadata": {},
   "source": [
    "We can also determine the probability of choosing this swap. At first glance it appears that it should be unity. However, this neglects the possibility of applying an identity transformation. As such, the sum of the probabilities over the non-trivial swaps is not 1.0."
   ]
  },
  {
   "cell_type": "code",
   "execution_count": 9,
   "metadata": {},
   "outputs": [
    {
     "data": {
      "text/plain": [
       "1-element Array{BigFloat,1}:\n",
       " 3.333333333333333333333333333333333333333333333333333333333333333333333333333348e-01"
      ]
     },
     "execution_count": 9,
     "metadata": {},
     "output_type": "execute_result"
    }
   ],
   "source": [
    "ctx.P"
   ]
  },
  {
   "cell_type": "markdown",
   "metadata": {},
   "source": [
    "We can access the probability of the identity transformation as"
   ]
  },
  {
   "cell_type": "code",
   "execution_count": 10,
   "metadata": {},
   "outputs": [
    {
     "data": {
      "text/html": [
       "6.666666666666666666666666666666666666666666666666666666666666666666666666666695e-01"
      ],
      "text/plain": [
       "6.666666666666666666666666666666666666666666666666666666666666666666666666666695e-01"
      ]
     },
     "execution_count": 10,
     "metadata": {},
     "output_type": "execute_result"
    }
   ],
   "source": [
    "ctx.Pid"
   ]
  },
  {
   "cell_type": "markdown",
   "metadata": {},
   "source": [
    "We would always have that"
   ]
  },
  {
   "cell_type": "code",
   "execution_count": 11,
   "metadata": {},
   "outputs": [],
   "source": [
    "@assert sum(ctx.P) + ctx.Pid ≈ 1.0"
   ]
  },
  {
   "cell_type": "markdown",
   "metadata": {},
   "source": [
    "### Thermalizing the System"
   ]
  },
  {
   "cell_type": "markdown",
   "metadata": {},
   "source": [
    "We are now poised to thermalize the system over a period of time. At the moment, this is done via a a loop and a call to the `timestep` method. Let's thermalize for 10 timesteps.\n",
    "\n",
    "Remember that the initial state of the system is:"
   ]
  },
  {
   "cell_type": "code",
   "execution_count": 12,
   "metadata": {},
   "outputs": [
    {
     "data": {
      "text/plain": [
       "2-element Array{Float64,1}:\n",
       " 0.0\n",
       " 1.0"
      ]
     },
     "execution_count": 12,
     "metadata": {},
     "output_type": "execute_result"
    }
   ],
   "source": [
    "ctx.system_state"
   ]
  },
  {
   "cell_type": "code",
   "execution_count": 13,
   "metadata": {},
   "outputs": [
    {
     "name": "stdout",
     "output_type": "stream",
     "text": [
      "[0.0, 1.0]\n",
      "[0.0, 1.0]\n",
      "[0.666667, 0.333333]\n",
      "[0.666667, 0.333333]\n",
      "[0.666667, 0.333333]\n",
      "[0.666667, 0.333333]\n",
      "[0.666667, 0.333333]\n",
      "[0.666667, 0.333333]\n",
      "[0.666667, 0.333333]\n",
      "[0.666667, 0.333333]\n"
     ]
    }
   ],
   "source": [
    "let rng = MersenneTwister(2018) # we'll explicitly use a random number generator instead of the GLOBAL_RNG\n",
    "    for _ in 1:10\n",
    "        println(timestep(rng, ctx)) # if the rng is not provided, we fall back to the GLOBAL_RNG\n",
    "    end\n",
    "end"
   ]
  },
  {
   "cell_type": "markdown",
   "metadata": {},
   "source": [
    "We can see that the identity transformation was applied during the first two timesteps. At the third timestep, the system thermalized a bit. In fact, it thermalized *completely*! This is a result of how simple our system is. A larger system **shouldn't** have this property. Let's test that out!"
   ]
  },
  {
   "cell_type": "markdown",
   "metadata": {},
   "source": [
    "## Needs more Cowbell"
   ]
  },
  {
   "cell_type": "markdown",
   "metadata": {},
   "source": [
    "Let's build a larger system, say $5$ monomers (limited to forming dimers) and $5$ water molecules:"
   ]
  },
  {
   "cell_type": "code",
   "execution_count": 14,
   "metadata": {},
   "outputs": [
    {
     "data": {
      "text/plain": [
       "(NTuple{10,Int64}[(2, 2, 2, 2, 1, 2, 2, 1, 1, 1), (2, 2, 1, 1, 1, 2, 1, 1, 1, 1), (1, 1, 1, 1, 1, 1, 1, 1, 1, 1)], [-15.8488, -15.8488, -15.8488], BigInt[150, 50, 1])"
      ]
     },
     "execution_count": 14,
     "metadata": {},
     "output_type": "execute_result"
    }
   ],
   "source": [
    "sys = StateSpace(Em, 5, Ew, 5)\n",
    "sys.basis, sys.energy, sys.deg"
   ]
  },
  {
   "cell_type": "markdown",
   "metadata": {},
   "source": [
    "We have three macrostates (2 dimers + 1 monomer, 1 dimer + 3 monomers, 5 monomers). They all have the same energy, but they have different amounts of degeneracy."
   ]
  },
  {
   "cell_type": "code",
   "execution_count": 15,
   "metadata": {},
   "outputs": [],
   "source": [
    "ctx = Context(β, sys, [0,0,1]);"
   ]
  },
  {
   "cell_type": "markdown",
   "metadata": {},
   "source": [
    "We start our thermalization with the system in the 5-monomer pure state. The bath's state looks like"
   ]
  },
  {
   "cell_type": "code",
   "execution_count": 16,
   "metadata": {},
   "outputs": [
    {
     "data": {
      "text/plain": [
       "3-element Array{Float64,1}:\n",
       " 0.746269  \n",
       " 0.248756  \n",
       " 0.00497512"
      ]
     },
     "execution_count": 16,
     "metadata": {},
     "output_type": "execute_result"
    }
   ],
   "source": [
    "ctx.bath_state"
   ]
  },
  {
   "cell_type": "markdown",
   "metadata": {},
   "source": [
    "And we have three admissible, non-trivial swaps:"
   ]
  },
  {
   "cell_type": "code",
   "execution_count": 17,
   "metadata": {},
   "outputs": [
    {
     "data": {
      "text/plain": [
       "3-element Array{Tuple{Tuple{Int64,Int64},Tuple{Int64,Int64}},1}:\n",
       " ((1, 2), (2, 1))\n",
       " ((1, 3), (3, 1))\n",
       " ((2, 3), (3, 2))"
      ]
     },
     "execution_count": 17,
     "metadata": {},
     "output_type": "execute_result"
    }
   ],
   "source": [
    "ctx.degeneracies"
   ]
  },
  {
   "cell_type": "markdown",
   "metadata": {},
   "source": [
    "They are not all equally likely though!"
   ]
  },
  {
   "cell_type": "code",
   "execution_count": 18,
   "metadata": {},
   "outputs": [
    {
     "data": {
      "text/plain": [
       "([0.15253, 6.1012e-5, 6.77911e-6], 0.8474021624828691)"
      ]
     },
     "execution_count": 18,
     "metadata": {},
     "output_type": "execute_result"
    }
   ],
   "source": [
    "Array{Float64}(ctx.P), Float64(ctx.Pid)"
   ]
  },
  {
   "cell_type": "markdown",
   "metadata": {},
   "source": [
    "Our system has an $84.7\\%$ chance of staying where it is at any given timestep. Since we are starting out in a very unlikely state, and it is so small, it is going to be difficult for us to leave!! **I suspect this is why we are hardpressed to build long polymers from systems of free monomers!!**\n",
    "\n",
    "Let's see how this goes. We'll start by simulating $10$ timesteps, as before."
   ]
  },
  {
   "cell_type": "code",
   "execution_count": 19,
   "metadata": {},
   "outputs": [
    {
     "name": "stdout",
     "output_type": "stream",
     "text": [
      "[0.0, 0.0, 1.0]\n",
      "[0.0, 0.0, 1.0]\n",
      "[0.0, 0.0, 1.0]\n",
      "[0.0, 0.0, 1.0]\n",
      "[0.0, 0.0, 1.0]\n",
      "[0.0, 0.0, 1.0]\n",
      "[0.0, 0.0, 1.0]\n",
      "[0.0, 0.0, 1.0]\n",
      "[0.0, 0.0, 1.0]\n",
      "[0.0, 0.0, 1.0]\n"
     ]
    }
   ],
   "source": [
    "srand(2018)\n",
    "for _ in 1:10\n",
    "    println(timestep(ctx))\n",
    "end"
   ]
  },
  {
   "cell_type": "markdown",
   "metadata": {},
   "source": [
    "As expected, we're sorta stuck. Let's simulate for much, much longer and see if we escape."
   ]
  },
  {
   "cell_type": "code",
   "execution_count": 20,
   "metadata": {},
   "outputs": [
    {
     "data": {
      "text/plain": [
       "3-element Array{Float64,1}:\n",
       " 0.746269  \n",
       " 0.248756  \n",
       " 0.00497512"
      ]
     },
     "execution_count": 20,
     "metadata": {},
     "output_type": "execute_result"
    }
   ],
   "source": [
    "for _ in 1:1000000 # 1 million time steps\n",
    "    timestep(ctx)  # let's not print all of those 😉\n",
    "end\n",
    "ctx.system_state"
   ]
  },
  {
   "cell_type": "markdown",
   "metadata": {},
   "source": [
    "Look at that! That's looking awfully similar to the bath's state! Let's see how similar."
   ]
  },
  {
   "cell_type": "code",
   "execution_count": 21,
   "metadata": {},
   "outputs": [
    {
     "data": {
      "text/html": [
       "6.661338147750942e-16"
      ],
      "text/plain": [
       "6.661338147750942e-16"
      ]
     },
     "execution_count": 21,
     "metadata": {},
     "output_type": "execute_result"
    }
   ],
   "source": [
    "re = Monotones.relative_entropy(ctx.system_state, ctx.bath_state)"
   ]
  },
  {
   "cell_type": "markdown",
   "metadata": {},
   "source": [
    "Alright, let's see about plotting some monotones, shall we?"
   ]
  },
  {
   "cell_type": "markdown",
   "metadata": {},
   "source": [
    "### Monotones!!!"
   ]
  },
  {
   "cell_type": "markdown",
   "metadata": {},
   "source": [
    "We'll start back in the 5-monomer pure state, calculate the relative entropy between the system state and bath state at each time step, and stop after it becomes sufficiently small ($\\leq 1.0 \\times 10^{-9}$). We keep an array of the sequence of relative entropies that differ, together with an array of the number of times the entropy appears consecutively. This condenses our plots a bit."
   ]
  },
  {
   "cell_type": "code",
   "execution_count": 22,
   "metadata": {},
   "outputs": [
    {
     "name": "stdout",
     "output_type": "stream",
     "text": [
      "Simulated for 168963 timesteps with 30 stretches\n",
      "  0.192986 seconds (2.44 M allocations: 60.223 MiB, 8.23% gc time)\n"
     ]
    }
   ],
   "source": [
    "@time begin\n",
    "    srand(2018)\n",
    "    ctx.system_state[:] = let state = zeros(ctx.system_state)\n",
    "        state[end] = 1.0\n",
    "        state\n",
    "    end\n",
    "    re = [Monotones.relative_entropy(ctx.system_state, ctx.bath_state)]\n",
    "    nre = [1]\n",
    "    t = 0\n",
    "    while re[end] > 1e-9\n",
    "        timestep(ctx)\n",
    "        r = Monotones.relative_entropy(ctx.system_state, ctx.bath_state)\n",
    "        if r ≈ re[end]\n",
    "            nre[end] += 1\n",
    "        else\n",
    "            push!(re, r)\n",
    "            push!(nre, 1)\n",
    "        end\n",
    "        t += 1\n",
    "    end\n",
    "    println(\"Simulated for $t timesteps with $(length(re)) stretches\")\n",
    "end"
   ]
  },
  {
   "cell_type": "code",
   "execution_count": 23,
   "metadata": {},
   "outputs": [
    {
     "data": {
      "image/svg+xml": [
       "<?xml version=\"1.0\" encoding=\"utf-8\"?>\n",
       "<svg xmlns=\"http://www.w3.org/2000/svg\" xmlns:xlink=\"http://www.w3.org/1999/xlink\" width=\"600\" height=\"400\" viewBox=\"0 0 600 400\">\n",
       "<defs>\n",
       "  <clipPath id=\"clip2700\">\n",
       "    <rect x=\"0\" y=\"0\" width=\"600\" height=\"400\"/>\n",
       "  </clipPath>\n",
       "</defs>\n",
       "<polygon clip-path=\"url(#clip2700)\" points=\"\n",
       "0,400 600,400 600,0 0,0 \n",
       "  \" fill=\"#ffffff\" fill-opacity=\"1\"/>\n",
       "<defs>\n",
       "  <clipPath id=\"clip2701\">\n",
       "    <rect x=\"120\" y=\"0\" width=\"421\" height=\"400\"/>\n",
       "  </clipPath>\n",
       "</defs>\n",
       "<polygon clip-path=\"url(#clip2700)\" points=\"\n",
       "38.1866,360.121 580.315,360.121 580.315,11.811 38.1866,11.811 \n",
       "  \" fill=\"#ffffff\" fill-opacity=\"1\"/>\n",
       "<defs>\n",
       "  <clipPath id=\"clip2702\">\n",
       "    <rect x=\"38\" y=\"11\" width=\"543\" height=\"349\"/>\n",
       "  </clipPath>\n",
       "</defs>\n",
       "<polyline clip-path=\"url(#clip2702)\" style=\"stroke:#000000; stroke-width:0.5; stroke-opacity:0.1; fill:none\" points=\"\n",
       "  112.963,360.121 112.963,11.811 \n",
       "  \"/>\n",
       "<polyline clip-path=\"url(#clip2702)\" style=\"stroke:#000000; stroke-width:0.5; stroke-opacity:0.1; fill:none\" points=\"\n",
       "  206.433,360.121 206.433,11.811 \n",
       "  \"/>\n",
       "<polyline clip-path=\"url(#clip2702)\" style=\"stroke:#000000; stroke-width:0.5; stroke-opacity:0.1; fill:none\" points=\"\n",
       "  299.904,360.121 299.904,11.811 \n",
       "  \"/>\n",
       "<polyline clip-path=\"url(#clip2702)\" style=\"stroke:#000000; stroke-width:0.5; stroke-opacity:0.1; fill:none\" points=\"\n",
       "  393.374,360.121 393.374,11.811 \n",
       "  \"/>\n",
       "<polyline clip-path=\"url(#clip2702)\" style=\"stroke:#000000; stroke-width:0.5; stroke-opacity:0.1; fill:none\" points=\"\n",
       "  486.845,360.121 486.845,11.811 \n",
       "  \"/>\n",
       "<polyline clip-path=\"url(#clip2702)\" style=\"stroke:#000000; stroke-width:0.5; stroke-opacity:0.1; fill:none\" points=\"\n",
       "  580.315,360.121 580.315,11.811 \n",
       "  \"/>\n",
       "<polyline clip-path=\"url(#clip2702)\" style=\"stroke:#000000; stroke-width:0.5; stroke-opacity:0.1; fill:none\" points=\"\n",
       "  38.1866,294.443 580.315,294.443 \n",
       "  \"/>\n",
       "<polyline clip-path=\"url(#clip2702)\" style=\"stroke:#000000; stroke-width:0.5; stroke-opacity:0.1; fill:none\" points=\"\n",
       "  38.1866,228.765 580.315,228.765 \n",
       "  \"/>\n",
       "<polyline clip-path=\"url(#clip2702)\" style=\"stroke:#000000; stroke-width:0.5; stroke-opacity:0.1; fill:none\" points=\"\n",
       "  38.1866,163.087 580.315,163.087 \n",
       "  \"/>\n",
       "<polyline clip-path=\"url(#clip2702)\" style=\"stroke:#000000; stroke-width:0.5; stroke-opacity:0.1; fill:none\" points=\"\n",
       "  38.1866,97.4093 580.315,97.4093 \n",
       "  \"/>\n",
       "<polyline clip-path=\"url(#clip2702)\" style=\"stroke:#000000; stroke-width:0.5; stroke-opacity:0.1; fill:none\" points=\"\n",
       "  38.1866,31.7314 580.315,31.7314 \n",
       "  \"/>\n",
       "<polyline clip-path=\"url(#clip2700)\" style=\"stroke:#000000; stroke-width:1; stroke-opacity:1; fill:none\" points=\"\n",
       "  38.1866,360.121 580.315,360.121 \n",
       "  \"/>\n",
       "<polyline clip-path=\"url(#clip2700)\" style=\"stroke:#000000; stroke-width:1; stroke-opacity:1; fill:none\" points=\"\n",
       "  38.1866,360.121 38.1866,11.811 \n",
       "  \"/>\n",
       "<polyline clip-path=\"url(#clip2700)\" style=\"stroke:#000000; stroke-width:1; stroke-opacity:1; fill:none\" points=\"\n",
       "  112.963,360.121 112.963,354.896 \n",
       "  \"/>\n",
       "<polyline clip-path=\"url(#clip2700)\" style=\"stroke:#000000; stroke-width:1; stroke-opacity:1; fill:none\" points=\"\n",
       "  206.433,360.121 206.433,354.896 \n",
       "  \"/>\n",
       "<polyline clip-path=\"url(#clip2700)\" style=\"stroke:#000000; stroke-width:1; stroke-opacity:1; fill:none\" points=\"\n",
       "  299.904,360.121 299.904,354.896 \n",
       "  \"/>\n",
       "<polyline clip-path=\"url(#clip2700)\" style=\"stroke:#000000; stroke-width:1; stroke-opacity:1; fill:none\" points=\"\n",
       "  393.374,360.121 393.374,354.896 \n",
       "  \"/>\n",
       "<polyline clip-path=\"url(#clip2700)\" style=\"stroke:#000000; stroke-width:1; stroke-opacity:1; fill:none\" points=\"\n",
       "  486.845,360.121 486.845,354.896 \n",
       "  \"/>\n",
       "<polyline clip-path=\"url(#clip2700)\" style=\"stroke:#000000; stroke-width:1; stroke-opacity:1; fill:none\" points=\"\n",
       "  580.315,360.121 580.315,354.896 \n",
       "  \"/>\n",
       "<polyline clip-path=\"url(#clip2700)\" style=\"stroke:#000000; stroke-width:1; stroke-opacity:1; fill:none\" points=\"\n",
       "  38.1866,294.443 46.3186,294.443 \n",
       "  \"/>\n",
       "<polyline clip-path=\"url(#clip2700)\" style=\"stroke:#000000; stroke-width:1; stroke-opacity:1; fill:none\" points=\"\n",
       "  38.1866,228.765 46.3186,228.765 \n",
       "  \"/>\n",
       "<polyline clip-path=\"url(#clip2700)\" style=\"stroke:#000000; stroke-width:1; stroke-opacity:1; fill:none\" points=\"\n",
       "  38.1866,163.087 46.3186,163.087 \n",
       "  \"/>\n",
       "<polyline clip-path=\"url(#clip2700)\" style=\"stroke:#000000; stroke-width:1; stroke-opacity:1; fill:none\" points=\"\n",
       "  38.1866,97.4093 46.3186,97.4093 \n",
       "  \"/>\n",
       "<polyline clip-path=\"url(#clip2700)\" style=\"stroke:#000000; stroke-width:1; stroke-opacity:1; fill:none\" points=\"\n",
       "  38.1866,31.7314 46.3186,31.7314 \n",
       "  \"/>\n",
       "<g clip-path=\"url(#clip2700)\">\n",
       "<text style=\"fill:#000000; fill-opacity:1; font-family:Arial,Helvetica Neue,Helvetica,sans-serif; font-size:12; text-anchor:middle;\" transform=\"rotate(0, 112.963, 373.921)\" x=\"112.963\" y=\"373.921\">5</text>\n",
       "</g>\n",
       "<g clip-path=\"url(#clip2700)\">\n",
       "<text style=\"fill:#000000; fill-opacity:1; font-family:Arial,Helvetica Neue,Helvetica,sans-serif; font-size:12; text-anchor:middle;\" transform=\"rotate(0, 206.433, 373.921)\" x=\"206.433\" y=\"373.921\">10</text>\n",
       "</g>\n",
       "<g clip-path=\"url(#clip2700)\">\n",
       "<text style=\"fill:#000000; fill-opacity:1; font-family:Arial,Helvetica Neue,Helvetica,sans-serif; font-size:12; text-anchor:middle;\" transform=\"rotate(0, 299.904, 373.921)\" x=\"299.904\" y=\"373.921\">15</text>\n",
       "</g>\n",
       "<g clip-path=\"url(#clip2700)\">\n",
       "<text style=\"fill:#000000; fill-opacity:1; font-family:Arial,Helvetica Neue,Helvetica,sans-serif; font-size:12; text-anchor:middle;\" transform=\"rotate(0, 393.374, 373.921)\" x=\"393.374\" y=\"373.921\">20</text>\n",
       "</g>\n",
       "<g clip-path=\"url(#clip2700)\">\n",
       "<text style=\"fill:#000000; fill-opacity:1; font-family:Arial,Helvetica Neue,Helvetica,sans-serif; font-size:12; text-anchor:middle;\" transform=\"rotate(0, 486.845, 373.921)\" x=\"486.845\" y=\"373.921\">25</text>\n",
       "</g>\n",
       "<g clip-path=\"url(#clip2700)\">\n",
       "<text style=\"fill:#000000; fill-opacity:1; font-family:Arial,Helvetica Neue,Helvetica,sans-serif; font-size:12; text-anchor:middle;\" transform=\"rotate(0, 580.315, 373.921)\" x=\"580.315\" y=\"373.921\">30</text>\n",
       "</g>\n",
       "<g clip-path=\"url(#clip2700)\">\n",
       "<text style=\"fill:#000000; fill-opacity:1; font-family:Arial,Helvetica Neue,Helvetica,sans-serif; font-size:12; text-anchor:end;\" transform=\"rotate(0, 32.1866, 298.943)\" x=\"32.1866\" y=\"298.943\">1</text>\n",
       "</g>\n",
       "<g clip-path=\"url(#clip2700)\">\n",
       "<text style=\"fill:#000000; fill-opacity:1; font-family:Arial,Helvetica Neue,Helvetica,sans-serif; font-size:12; text-anchor:end;\" transform=\"rotate(0, 32.1866, 233.265)\" x=\"32.1866\" y=\"233.265\">2</text>\n",
       "</g>\n",
       "<g clip-path=\"url(#clip2700)\">\n",
       "<text style=\"fill:#000000; fill-opacity:1; font-family:Arial,Helvetica Neue,Helvetica,sans-serif; font-size:12; text-anchor:end;\" transform=\"rotate(0, 32.1866, 167.587)\" x=\"32.1866\" y=\"167.587\">3</text>\n",
       "</g>\n",
       "<g clip-path=\"url(#clip2700)\">\n",
       "<text style=\"fill:#000000; fill-opacity:1; font-family:Arial,Helvetica Neue,Helvetica,sans-serif; font-size:12; text-anchor:end;\" transform=\"rotate(0, 32.1866, 101.909)\" x=\"32.1866\" y=\"101.909\">4</text>\n",
       "</g>\n",
       "<g clip-path=\"url(#clip2700)\">\n",
       "<text style=\"fill:#000000; fill-opacity:1; font-family:Arial,Helvetica Neue,Helvetica,sans-serif; font-size:12; text-anchor:end;\" transform=\"rotate(0, 32.1866, 36.2314)\" x=\"32.1866\" y=\"36.2314\">5</text>\n",
       "</g>\n",
       "<g clip-path=\"url(#clip2700)\">\n",
       "<text style=\"fill:#000000; fill-opacity:1; font-family:Arial,Helvetica Neue,Helvetica,sans-serif; font-size:16; text-anchor:middle;\" transform=\"rotate(0, 309.251, 397.6)\" x=\"309.251\" y=\"397.6\">Stretch</text>\n",
       "</g>\n",
       "<g clip-path=\"url(#clip2700)\">\n",
       "<text style=\"fill:#000000; fill-opacity:1; font-family:Arial,Helvetica Neue,Helvetica,sans-serif; font-size:16; text-anchor:middle;\" transform=\"rotate(-90, 14.4, 185.966)\" x=\"14.4\" y=\"185.966\">Relative Entropy (nats)</text>\n",
       "</g>\n",
       "<polyline clip-path=\"url(#clip2702)\" style=\"stroke:#009af9; stroke-width:1; stroke-opacity:1; fill:none\" points=\"\n",
       "  38.1866,11.811 56.8807,294.599 75.5748,308.699 94.2689,308.699 112.963,352.165 131.657,352.594 150.351,352.594 169.045,359.199 187.739,359.224 206.433,359.224 \n",
       "  225.127,360.038 243.822,360.039 262.516,360.039 281.21,360.115 299.904,360.115 318.598,360.115 337.292,360.12 355.986,360.12 374.68,360.12 393.374,360.121 \n",
       "  412.068,360.121 430.762,360.121 449.456,360.121 468.15,360.121 486.845,360.121 505.539,360.121 524.233,360.121 542.927,360.121 561.621,360.121 580.315,360.121 \n",
       "  \n",
       "  \"/>\n",
       "</svg>\n"
      ]
     },
     "execution_count": 23,
     "metadata": {},
     "output_type": "execute_result"
    }
   ],
   "source": [
    "plot(re, xlabel=\"Stretch\", ylabel=\"Relative Entropy (nats)\", legend=false)"
   ]
  },
  {
   "cell_type": "markdown",
   "metadata": {},
   "source": [
    "Now let's ensure that the relative entropy is actually monotonic."
   ]
  },
  {
   "cell_type": "code",
   "execution_count": 24,
   "metadata": {},
   "outputs": [],
   "source": [
    "for i in 2:length(re)\n",
    "    @test isapprox(re[i], re[i-1]; atol=1e-10) || re[i] < re[i-1]\n",
    "end"
   ]
  },
  {
   "cell_type": "markdown",
   "metadata": {},
   "source": [
    "## BIGGER!!!"
   ]
  },
  {
   "cell_type": "markdown",
   "metadata": {},
   "source": [
    "Let's give it a go with 5 monomers and 13 water molecules! (**Note** there's a *chance* that the results will be incorrect. It is difficult to check results or such large systems.)"
   ]
  },
  {
   "cell_type": "code",
   "execution_count": 25,
   "metadata": {},
   "outputs": [
    {
     "name": "stdout",
     "output_type": "stream",
     "text": [
      "There are 3 macrostates and 3 non-trivial swaps.\n",
      "The probability of the identity swap is ∼0.706."
     ]
    }
   ],
   "source": [
    "sys = StateSpace(Em, 5, Ew, 13)\n",
    "\n",
    "system_state = let state = zeros(Float64, length(sys))\n",
    "    state[end] = 1.0\n",
    "    state\n",
    "end\n",
    "\n",
    "ctx = Context(β, sys, system_state)\n",
    "\n",
    "println(\"There are $(length(sys)) macrostates and $(length(ctx.degeneracies)) non-trivial swaps.\")\n",
    "@printf \"The probability of the identity swap is ∼%0.3f.\" ctx.Pid"
   ]
  },
  {
   "cell_type": "code",
   "execution_count": 26,
   "metadata": {},
   "outputs": [
    {
     "name": "stdout",
     "output_type": "stream",
     "text": [
      "Simulated for 426 timesteps with 57 stretches\n",
      "  0.029633 seconds (13.45 k allocations: 572.669 KiB)\n"
     ]
    }
   ],
   "source": [
    "@time begin\n",
    "    srand(2018)\n",
    "    re = [Monotones.relative_entropy(ctx.system_state, ctx.bath_state)]\n",
    "    nre = [1]\n",
    "    t = 0\n",
    "    while re[end] > 1e-9\n",
    "        timestep(ctx)\n",
    "        r = Monotones.relative_entropy(ctx.system_state, ctx.bath_state)\n",
    "        if r ≈ re[end]\n",
    "            nre[end] += 1\n",
    "        else\n",
    "            push!(re, r)\n",
    "            push!(nre, 1)\n",
    "        end\n",
    "        t += 1\n",
    "    end\n",
    "    println(\"Simulated for $t timesteps with $(length(re)) stretches\")\n",
    "end"
   ]
  },
  {
   "cell_type": "code",
   "execution_count": 27,
   "metadata": {},
   "outputs": [],
   "source": [
    "for i in 2:length(re)\n",
    "    @test isapprox(re[i], re[i-1]; atol=1e-10) || re[i] < re[i-1]\n",
    "end"
   ]
  },
  {
   "cell_type": "code",
   "execution_count": 28,
   "metadata": {},
   "outputs": [
    {
     "data": {
      "image/svg+xml": [
       "<?xml version=\"1.0\" encoding=\"utf-8\"?>\n",
       "<svg xmlns=\"http://www.w3.org/2000/svg\" xmlns:xlink=\"http://www.w3.org/1999/xlink\" width=\"600\" height=\"400\" viewBox=\"0 0 600 400\">\n",
       "<defs>\n",
       "  <clipPath id=\"clip2900\">\n",
       "    <rect x=\"0\" y=\"0\" width=\"600\" height=\"400\"/>\n",
       "  </clipPath>\n",
       "</defs>\n",
       "<polygon clip-path=\"url(#clip2900)\" points=\"\n",
       "0,400 600,400 600,0 0,0 \n",
       "  \" fill=\"#ffffff\" fill-opacity=\"1\"/>\n",
       "<defs>\n",
       "  <clipPath id=\"clip2901\">\n",
       "    <rect x=\"120\" y=\"0\" width=\"421\" height=\"400\"/>\n",
       "  </clipPath>\n",
       "</defs>\n",
       "<polygon clip-path=\"url(#clip2900)\" points=\"\n",
       "48.2225,360.121 580.315,360.121 580.315,11.811 48.2225,11.811 \n",
       "  \" fill=\"#ffffff\" fill-opacity=\"1\"/>\n",
       "<defs>\n",
       "  <clipPath id=\"clip2902\">\n",
       "    <rect x=\"48\" y=\"11\" width=\"533\" height=\"349\"/>\n",
       "  </clipPath>\n",
       "</defs>\n",
       "<polyline clip-path=\"url(#clip2902)\" style=\"stroke:#000000; stroke-width:0.5; stroke-opacity:0.1; fill:none\" points=\"\n",
       "  133.737,360.121 133.737,11.811 \n",
       "  \"/>\n",
       "<polyline clip-path=\"url(#clip2902)\" style=\"stroke:#000000; stroke-width:0.5; stroke-opacity:0.1; fill:none\" points=\"\n",
       "  228.754,360.121 228.754,11.811 \n",
       "  \"/>\n",
       "<polyline clip-path=\"url(#clip2902)\" style=\"stroke:#000000; stroke-width:0.5; stroke-opacity:0.1; fill:none\" points=\"\n",
       "  323.77,360.121 323.77,11.811 \n",
       "  \"/>\n",
       "<polyline clip-path=\"url(#clip2902)\" style=\"stroke:#000000; stroke-width:0.5; stroke-opacity:0.1; fill:none\" points=\"\n",
       "  418.787,360.121 418.787,11.811 \n",
       "  \"/>\n",
       "<polyline clip-path=\"url(#clip2902)\" style=\"stroke:#000000; stroke-width:0.5; stroke-opacity:0.1; fill:none\" points=\"\n",
       "  513.803,360.121 513.803,11.811 \n",
       "  \"/>\n",
       "<polyline clip-path=\"url(#clip2902)\" style=\"stroke:#000000; stroke-width:0.5; stroke-opacity:0.1; fill:none\" points=\"\n",
       "  48.2225,284.117 580.315,284.117 \n",
       "  \"/>\n",
       "<polyline clip-path=\"url(#clip2902)\" style=\"stroke:#000000; stroke-width:0.5; stroke-opacity:0.1; fill:none\" points=\"\n",
       "  48.2225,208.114 580.315,208.114 \n",
       "  \"/>\n",
       "<polyline clip-path=\"url(#clip2902)\" style=\"stroke:#000000; stroke-width:0.5; stroke-opacity:0.1; fill:none\" points=\"\n",
       "  48.2225,132.111 580.315,132.111 \n",
       "  \"/>\n",
       "<polyline clip-path=\"url(#clip2902)\" style=\"stroke:#000000; stroke-width:0.5; stroke-opacity:0.1; fill:none\" points=\"\n",
       "  48.2225,56.1075 580.315,56.1075 \n",
       "  \"/>\n",
       "<polyline clip-path=\"url(#clip2900)\" style=\"stroke:#000000; stroke-width:1; stroke-opacity:1; fill:none\" points=\"\n",
       "  48.2225,360.121 580.315,360.121 \n",
       "  \"/>\n",
       "<polyline clip-path=\"url(#clip2900)\" style=\"stroke:#000000; stroke-width:1; stroke-opacity:1; fill:none\" points=\"\n",
       "  48.2225,360.121 48.2225,11.811 \n",
       "  \"/>\n",
       "<polyline clip-path=\"url(#clip2900)\" style=\"stroke:#000000; stroke-width:1; stroke-opacity:1; fill:none\" points=\"\n",
       "  133.737,360.121 133.737,354.896 \n",
       "  \"/>\n",
       "<polyline clip-path=\"url(#clip2900)\" style=\"stroke:#000000; stroke-width:1; stroke-opacity:1; fill:none\" points=\"\n",
       "  228.754,360.121 228.754,354.896 \n",
       "  \"/>\n",
       "<polyline clip-path=\"url(#clip2900)\" style=\"stroke:#000000; stroke-width:1; stroke-opacity:1; fill:none\" points=\"\n",
       "  323.77,360.121 323.77,354.896 \n",
       "  \"/>\n",
       "<polyline clip-path=\"url(#clip2900)\" style=\"stroke:#000000; stroke-width:1; stroke-opacity:1; fill:none\" points=\"\n",
       "  418.787,360.121 418.787,354.896 \n",
       "  \"/>\n",
       "<polyline clip-path=\"url(#clip2900)\" style=\"stroke:#000000; stroke-width:1; stroke-opacity:1; fill:none\" points=\"\n",
       "  513.803,360.121 513.803,354.896 \n",
       "  \"/>\n",
       "<polyline clip-path=\"url(#clip2900)\" style=\"stroke:#000000; stroke-width:1; stroke-opacity:1; fill:none\" points=\"\n",
       "  48.2225,284.117 56.2039,284.117 \n",
       "  \"/>\n",
       "<polyline clip-path=\"url(#clip2900)\" style=\"stroke:#000000; stroke-width:1; stroke-opacity:1; fill:none\" points=\"\n",
       "  48.2225,208.114 56.2039,208.114 \n",
       "  \"/>\n",
       "<polyline clip-path=\"url(#clip2900)\" style=\"stroke:#000000; stroke-width:1; stroke-opacity:1; fill:none\" points=\"\n",
       "  48.2225,132.111 56.2039,132.111 \n",
       "  \"/>\n",
       "<polyline clip-path=\"url(#clip2900)\" style=\"stroke:#000000; stroke-width:1; stroke-opacity:1; fill:none\" points=\"\n",
       "  48.2225,56.1075 56.2039,56.1075 \n",
       "  \"/>\n",
       "<g clip-path=\"url(#clip2900)\">\n",
       "<text style=\"fill:#000000; fill-opacity:1; font-family:Arial,Helvetica Neue,Helvetica,sans-serif; font-size:12; text-anchor:middle;\" transform=\"rotate(0, 133.737, 373.921)\" x=\"133.737\" y=\"373.921\">10</text>\n",
       "</g>\n",
       "<g clip-path=\"url(#clip2900)\">\n",
       "<text style=\"fill:#000000; fill-opacity:1; font-family:Arial,Helvetica Neue,Helvetica,sans-serif; font-size:12; text-anchor:middle;\" transform=\"rotate(0, 228.754, 373.921)\" x=\"228.754\" y=\"373.921\">20</text>\n",
       "</g>\n",
       "<g clip-path=\"url(#clip2900)\">\n",
       "<text style=\"fill:#000000; fill-opacity:1; font-family:Arial,Helvetica Neue,Helvetica,sans-serif; font-size:12; text-anchor:middle;\" transform=\"rotate(0, 323.77, 373.921)\" x=\"323.77\" y=\"373.921\">30</text>\n",
       "</g>\n",
       "<g clip-path=\"url(#clip2900)\">\n",
       "<text style=\"fill:#000000; fill-opacity:1; font-family:Arial,Helvetica Neue,Helvetica,sans-serif; font-size:12; text-anchor:middle;\" transform=\"rotate(0, 418.787, 373.921)\" x=\"418.787\" y=\"373.921\">40</text>\n",
       "</g>\n",
       "<g clip-path=\"url(#clip2900)\">\n",
       "<text style=\"fill:#000000; fill-opacity:1; font-family:Arial,Helvetica Neue,Helvetica,sans-serif; font-size:12; text-anchor:middle;\" transform=\"rotate(0, 513.803, 373.921)\" x=\"513.803\" y=\"373.921\">50</text>\n",
       "</g>\n",
       "<g clip-path=\"url(#clip2900)\">\n",
       "<text style=\"fill:#000000; fill-opacity:1; font-family:Arial,Helvetica Neue,Helvetica,sans-serif; font-size:12; text-anchor:end;\" transform=\"rotate(0, 42.2225, 288.617)\" x=\"42.2225\" y=\"288.617\">0.5</text>\n",
       "</g>\n",
       "<g clip-path=\"url(#clip2900)\">\n",
       "<text style=\"fill:#000000; fill-opacity:1; font-family:Arial,Helvetica Neue,Helvetica,sans-serif; font-size:12; text-anchor:end;\" transform=\"rotate(0, 42.2225, 212.614)\" x=\"42.2225\" y=\"212.614\">1.0</text>\n",
       "</g>\n",
       "<g clip-path=\"url(#clip2900)\">\n",
       "<text style=\"fill:#000000; fill-opacity:1; font-family:Arial,Helvetica Neue,Helvetica,sans-serif; font-size:12; text-anchor:end;\" transform=\"rotate(0, 42.2225, 136.611)\" x=\"42.2225\" y=\"136.611\">1.5</text>\n",
       "</g>\n",
       "<g clip-path=\"url(#clip2900)\">\n",
       "<text style=\"fill:#000000; fill-opacity:1; font-family:Arial,Helvetica Neue,Helvetica,sans-serif; font-size:12; text-anchor:end;\" transform=\"rotate(0, 42.2225, 60.6075)\" x=\"42.2225\" y=\"60.6075\">2.0</text>\n",
       "</g>\n",
       "<g clip-path=\"url(#clip2900)\">\n",
       "<text style=\"fill:#000000; fill-opacity:1; font-family:Arial,Helvetica Neue,Helvetica,sans-serif; font-size:16; text-anchor:middle;\" transform=\"rotate(0, 314.269, 397.6)\" x=\"314.269\" y=\"397.6\">Stretch</text>\n",
       "</g>\n",
       "<g clip-path=\"url(#clip2900)\">\n",
       "<text style=\"fill:#000000; fill-opacity:1; font-family:Arial,Helvetica Neue,Helvetica,sans-serif; font-size:16; text-anchor:middle;\" transform=\"rotate(-90, 14.4, 185.966)\" x=\"14.4\" y=\"185.966\">Relative Entropy (nats)</text>\n",
       "</g>\n",
       "<polyline clip-path=\"url(#clip2902)\" style=\"stroke:#009af9; stroke-width:1; stroke-opacity:1; fill:none\" points=\"\n",
       "  48.2225,11.811 57.7242,262.449 67.2258,302.32 76.7275,333.548 86.2291,335.129 95.7308,335.145 105.232,335.145 114.734,335.145 124.236,348.301 133.737,349.279 \n",
       "  143.239,358.132 152.741,358.386 162.242,358.389 171.744,358.389 181.246,358.389 190.747,359.368 200.249,359.415 209.751,359.415 219.252,359.415 228.754,359.415 \n",
       "  238.256,359.998 247.757,360.016 257.259,360.017 266.76,360.017 276.262,360.017 285.764,360.103 295.265,360.106 304.767,360.106 314.269,360.106 323.77,360.106 \n",
       "  333.272,360.114 342.774,360.12 352.275,360.12 361.777,360.12 371.279,360.12 380.78,360.12 390.282,360.12 399.784,360.12 409.285,360.12 418.787,360.12 \n",
       "  428.289,360.121 437.79,360.121 447.292,360.121 456.794,360.121 466.295,360.121 475.797,360.121 485.298,360.121 494.8,360.121 504.302,360.121 513.803,360.121 \n",
       "  523.305,360.121 532.807,360.121 542.308,360.121 551.81,360.121 561.312,360.121 570.813,360.121 580.315,360.121 \n",
       "  \"/>\n",
       "</svg>\n"
      ]
     },
     "execution_count": 28,
     "metadata": {},
     "output_type": "execute_result"
    }
   ],
   "source": [
    "plot(re, xlabel=\"Stretch\", ylabel=\"Relative Entropy (nats)\", legend=false)"
   ]
  },
  {
   "cell_type": "markdown",
   "metadata": {},
   "source": [
    "## Still BIGGER!!!"
   ]
  },
  {
   "cell_type": "code",
   "execution_count": 29,
   "metadata": {},
   "outputs": [
    {
     "name": "stdout",
     "output_type": "stream",
     "text": [
      "There are 3 macrostates and 5 non-trivial swaps.\n",
      "The probability of the identity swap is ∼0.612."
     ]
    }
   ],
   "source": [
    "sys = StateSpace(Em, 5, Ew, 14)\n",
    "\n",
    "system_state = let state = zeros(Float64, length(sys))\n",
    "    state[end] = 1.0\n",
    "    state\n",
    "end\n",
    "\n",
    "ctx = Context(β, sys, system_state)\n",
    "\n",
    "println(\"There are $(length(sys)) macrostates and $(length(ctx.degeneracies)) non-trivial swaps.\")\n",
    "@printf \"The probability of the identity swap is ∼%0.3f.\" ctx.Pid"
   ]
  },
  {
   "cell_type": "code",
   "execution_count": 30,
   "metadata": {},
   "outputs": [
    {
     "name": "stdout",
     "output_type": "stream",
     "text": [
      "Simulated for 1995202 timesteps with 745123 stretches\n",
      "  2.425325 seconds (33.20 M allocations: 877.461 MiB, 13.00% gc time)\n"
     ]
    }
   ],
   "source": [
    "@time begin\n",
    "    srand(2018)\n",
    "    re = [Monotones.relative_entropy(ctx.system_state, ctx.bath_state)]\n",
    "    nre = [1]\n",
    "    t = 0\n",
    "    while re[end] > 1e-9\n",
    "        timestep(ctx)\n",
    "        r = Monotones.relative_entropy(ctx.system_state, ctx.bath_state)\n",
    "        if r ≈ re[end]\n",
    "            nre[end] += 1\n",
    "        else\n",
    "            push!(re, r)\n",
    "            push!(nre, 1)\n",
    "        end\n",
    "        t += 1\n",
    "    end\n",
    "    println(\"Simulated for $t timesteps with $(length(re)) stretches\")\n",
    "end"
   ]
  },
  {
   "cell_type": "code",
   "execution_count": 31,
   "metadata": {},
   "outputs": [
    {
     "name": "stdout",
     "output_type": "stream",
     "text": [
      "\u001b[1m\u001b[91mTest Failed\n",
      "\u001b[39m\u001b[22m  Expression: isapprox(re[i], re[i - 1]; atol=1.0e-10) || re[i] < re[i - 1]\n"
     ]
    },
    {
     "ename": "LoadError",
     "evalue": "\u001b[91mThere was an error during testing\u001b[39m",
     "output_type": "error",
     "traceback": [
      "\u001b[91mThere was an error during testing\u001b[39m",
      "",
      "Stacktrace:",
      " [1] \u001b[1mrecord\u001b[22m\u001b[22m\u001b[1m(\u001b[22m\u001b[22m::Base.Test.FallbackTestSet, ::Base.Test.Fail\u001b[1m)\u001b[22m\u001b[22m at \u001b[1m./test.jl:533\u001b[22m\u001b[22m",
      " [2] \u001b[1mdo_test\u001b[22m\u001b[22m\u001b[1m(\u001b[22m\u001b[22m::Base.Test.Returned, ::Expr\u001b[1m)\u001b[22m\u001b[22m at \u001b[1m./test.jl:352\u001b[22m\u001b[22m",
      " [3] \u001b[1mmacro expansion\u001b[22m\u001b[22m at \u001b[1m./In[31]:2\u001b[22m\u001b[22m [inlined]",
      " [4] \u001b[1manonymous\u001b[22m\u001b[22m at \u001b[1m./<missing>:?\u001b[22m\u001b[22m"
     ]
    }
   ],
   "source": [
    "for i in 2:length(re)\n",
    "    @test isapprox(re[i], re[i-1]; atol=1e-10) || re[i] < re[i-1]\n",
    "end"
   ]
  },
  {
   "cell_type": "markdown",
   "metadata": {},
   "source": [
    "Uh, oh! It looks like we're having some problems when the number of water molecules gets too large. This could be an issue with the degeneracies getting to large, the probabilities getting too small, or both! More exploration to follow."
   ]
  },
  {
   "cell_type": "code",
   "execution_count": 32,
   "metadata": {},
   "outputs": [
    {
     "data": {
      "image/svg+xml": [
       "<?xml version=\"1.0\" encoding=\"utf-8\"?>\n",
       "<svg xmlns=\"http://www.w3.org/2000/svg\" xmlns:xlink=\"http://www.w3.org/1999/xlink\" width=\"600\" height=\"400\" viewBox=\"0 0 600 400\">\n",
       "<defs>\n",
       "  <clipPath id=\"clip3100\">\n",
       "    <rect x=\"0\" y=\"0\" width=\"600\" height=\"400\"/>\n",
       "  </clipPath>\n",
       "</defs>\n",
       "<polygon clip-path=\"url(#clip3100)\" points=\"\n",
       "0,400 600,400 600,0 0,0 \n",
       "  \" fill=\"#ffffff\" fill-opacity=\"1\"/>\n",
       "<defs>\n",
       "  <clipPath id=\"clip3101\">\n",
       "    <rect x=\"120\" y=\"0\" width=\"421\" height=\"400\"/>\n",
       "  </clipPath>\n",
       "</defs>\n",
       "<polygon clip-path=\"url(#clip3100)\" points=\"\n",
       "48.2225,360.121 580.315,360.121 580.315,11.811 48.2225,11.811 \n",
       "  \" fill=\"#ffffff\" fill-opacity=\"1\"/>\n",
       "<defs>\n",
       "  <clipPath id=\"clip3102\">\n",
       "    <rect x=\"48\" y=\"11\" width=\"533\" height=\"349\"/>\n",
       "  </clipPath>\n",
       "</defs>\n",
       "<polyline clip-path=\"url(#clip3102)\" style=\"stroke:#000000; stroke-width:0.5; stroke-opacity:0.1; fill:none\" points=\"\n",
       "  154.215,360.121 154.215,11.811 \n",
       "  \"/>\n",
       "<polyline clip-path=\"url(#clip3102)\" style=\"stroke:#000000; stroke-width:0.5; stroke-opacity:0.1; fill:none\" points=\"\n",
       "  260.74,360.121 260.74,11.811 \n",
       "  \"/>\n",
       "<polyline clip-path=\"url(#clip3102)\" style=\"stroke:#000000; stroke-width:0.5; stroke-opacity:0.1; fill:none\" points=\"\n",
       "  367.265,360.121 367.265,11.811 \n",
       "  \"/>\n",
       "<polyline clip-path=\"url(#clip3102)\" style=\"stroke:#000000; stroke-width:0.5; stroke-opacity:0.1; fill:none\" points=\"\n",
       "  473.79,360.121 473.79,11.811 \n",
       "  \"/>\n",
       "<polyline clip-path=\"url(#clip3102)\" style=\"stroke:#000000; stroke-width:0.5; stroke-opacity:0.1; fill:none\" points=\"\n",
       "  580.315,360.121 580.315,11.811 \n",
       "  \"/>\n",
       "<polyline clip-path=\"url(#clip3102)\" style=\"stroke:#000000; stroke-width:0.5; stroke-opacity:0.1; fill:none\" points=\"\n",
       "  48.2225,279.734 580.315,279.734 \n",
       "  \"/>\n",
       "<polyline clip-path=\"url(#clip3102)\" style=\"stroke:#000000; stroke-width:0.5; stroke-opacity:0.1; fill:none\" points=\"\n",
       "  48.2225,199.347 580.315,199.347 \n",
       "  \"/>\n",
       "<polyline clip-path=\"url(#clip3102)\" style=\"stroke:#000000; stroke-width:0.5; stroke-opacity:0.1; fill:none\" points=\"\n",
       "  48.2225,118.96 580.315,118.96 \n",
       "  \"/>\n",
       "<polyline clip-path=\"url(#clip3102)\" style=\"stroke:#000000; stroke-width:0.5; stroke-opacity:0.1; fill:none\" points=\"\n",
       "  48.2225,38.5724 580.315,38.5724 \n",
       "  \"/>\n",
       "<polyline clip-path=\"url(#clip3100)\" style=\"stroke:#000000; stroke-width:1; stroke-opacity:1; fill:none\" points=\"\n",
       "  48.2225,360.121 580.315,360.121 \n",
       "  \"/>\n",
       "<polyline clip-path=\"url(#clip3100)\" style=\"stroke:#000000; stroke-width:1; stroke-opacity:1; fill:none\" points=\"\n",
       "  48.2225,360.121 48.2225,11.811 \n",
       "  \"/>\n",
       "<polyline clip-path=\"url(#clip3100)\" style=\"stroke:#000000; stroke-width:1; stroke-opacity:1; fill:none\" points=\"\n",
       "  154.215,360.121 154.215,354.896 \n",
       "  \"/>\n",
       "<polyline clip-path=\"url(#clip3100)\" style=\"stroke:#000000; stroke-width:1; stroke-opacity:1; fill:none\" points=\"\n",
       "  260.74,360.121 260.74,354.896 \n",
       "  \"/>\n",
       "<polyline clip-path=\"url(#clip3100)\" style=\"stroke:#000000; stroke-width:1; stroke-opacity:1; fill:none\" points=\"\n",
       "  367.265,360.121 367.265,354.896 \n",
       "  \"/>\n",
       "<polyline clip-path=\"url(#clip3100)\" style=\"stroke:#000000; stroke-width:1; stroke-opacity:1; fill:none\" points=\"\n",
       "  473.79,360.121 473.79,354.896 \n",
       "  \"/>\n",
       "<polyline clip-path=\"url(#clip3100)\" style=\"stroke:#000000; stroke-width:1; stroke-opacity:1; fill:none\" points=\"\n",
       "  580.315,360.121 580.315,354.896 \n",
       "  \"/>\n",
       "<polyline clip-path=\"url(#clip3100)\" style=\"stroke:#000000; stroke-width:1; stroke-opacity:1; fill:none\" points=\"\n",
       "  48.2225,279.734 56.2039,279.734 \n",
       "  \"/>\n",
       "<polyline clip-path=\"url(#clip3100)\" style=\"stroke:#000000; stroke-width:1; stroke-opacity:1; fill:none\" points=\"\n",
       "  48.2225,199.347 56.2039,199.347 \n",
       "  \"/>\n",
       "<polyline clip-path=\"url(#clip3100)\" style=\"stroke:#000000; stroke-width:1; stroke-opacity:1; fill:none\" points=\"\n",
       "  48.2225,118.96 56.2039,118.96 \n",
       "  \"/>\n",
       "<polyline clip-path=\"url(#clip3100)\" style=\"stroke:#000000; stroke-width:1; stroke-opacity:1; fill:none\" points=\"\n",
       "  48.2225,38.5724 56.2039,38.5724 \n",
       "  \"/>\n",
       "<g clip-path=\"url(#clip3100)\">\n",
       "<text style=\"fill:#000000; fill-opacity:1; font-family:Arial,Helvetica Neue,Helvetica,sans-serif; font-size:12; text-anchor:middle;\" transform=\"rotate(0, 154.215, 373.921)\" x=\"154.215\" y=\"373.921\">200</text>\n",
       "</g>\n",
       "<g clip-path=\"url(#clip3100)\">\n",
       "<text style=\"fill:#000000; fill-opacity:1; font-family:Arial,Helvetica Neue,Helvetica,sans-serif; font-size:12; text-anchor:middle;\" transform=\"rotate(0, 260.74, 373.921)\" x=\"260.74\" y=\"373.921\">400</text>\n",
       "</g>\n",
       "<g clip-path=\"url(#clip3100)\">\n",
       "<text style=\"fill:#000000; fill-opacity:1; font-family:Arial,Helvetica Neue,Helvetica,sans-serif; font-size:12; text-anchor:middle;\" transform=\"rotate(0, 367.265, 373.921)\" x=\"367.265\" y=\"373.921\">600</text>\n",
       "</g>\n",
       "<g clip-path=\"url(#clip3100)\">\n",
       "<text style=\"fill:#000000; fill-opacity:1; font-family:Arial,Helvetica Neue,Helvetica,sans-serif; font-size:12; text-anchor:middle;\" transform=\"rotate(0, 473.79, 373.921)\" x=\"473.79\" y=\"373.921\">800</text>\n",
       "</g>\n",
       "<g clip-path=\"url(#clip3100)\">\n",
       "<text style=\"fill:#000000; fill-opacity:1; font-family:Arial,Helvetica Neue,Helvetica,sans-serif; font-size:12; text-anchor:middle;\" transform=\"rotate(0, 580.315, 373.921)\" x=\"580.315\" y=\"373.921\">1000</text>\n",
       "</g>\n",
       "<g clip-path=\"url(#clip3100)\">\n",
       "<text style=\"fill:#000000; fill-opacity:1; font-family:Arial,Helvetica Neue,Helvetica,sans-serif; font-size:12; text-anchor:end;\" transform=\"rotate(0, 42.2225, 284.234)\" x=\"42.2225\" y=\"284.234\">0.5</text>\n",
       "</g>\n",
       "<g clip-path=\"url(#clip3100)\">\n",
       "<text style=\"fill:#000000; fill-opacity:1; font-family:Arial,Helvetica Neue,Helvetica,sans-serif; font-size:12; text-anchor:end;\" transform=\"rotate(0, 42.2225, 203.847)\" x=\"42.2225\" y=\"203.847\">1.0</text>\n",
       "</g>\n",
       "<g clip-path=\"url(#clip3100)\">\n",
       "<text style=\"fill:#000000; fill-opacity:1; font-family:Arial,Helvetica Neue,Helvetica,sans-serif; font-size:12; text-anchor:end;\" transform=\"rotate(0, 42.2225, 123.46)\" x=\"42.2225\" y=\"123.46\">1.5</text>\n",
       "</g>\n",
       "<g clip-path=\"url(#clip3100)\">\n",
       "<text style=\"fill:#000000; fill-opacity:1; font-family:Arial,Helvetica Neue,Helvetica,sans-serif; font-size:12; text-anchor:end;\" transform=\"rotate(0, 42.2225, 43.0724)\" x=\"42.2225\" y=\"43.0724\">2.0</text>\n",
       "</g>\n",
       "<g clip-path=\"url(#clip3100)\">\n",
       "<text style=\"fill:#000000; fill-opacity:1; font-family:Arial,Helvetica Neue,Helvetica,sans-serif; font-size:16; text-anchor:middle;\" transform=\"rotate(0, 314.269, 397.6)\" x=\"314.269\" y=\"397.6\">Stretch</text>\n",
       "</g>\n",
       "<g clip-path=\"url(#clip3100)\">\n",
       "<text style=\"fill:#000000; fill-opacity:1; font-family:Arial,Helvetica Neue,Helvetica,sans-serif; font-size:16; text-anchor:middle;\" transform=\"rotate(-90, 14.4, 185.966)\" x=\"14.4\" y=\"185.966\">Relative Entropy (nats)</text>\n",
       "</g>\n",
       "<polyline clip-path=\"url(#clip3102)\" style=\"stroke:#009af9; stroke-width:1; stroke-opacity:1; fill:none\" points=\"\n",
       "  48.2225,11.811 48.7552,269.781 49.2878,309.543 49.8204,281.102 50.353,277.399 50.8857,277.524 51.4183,274.759 51.9509,274.772 52.4835,274.772 53.0162,315.151 \n",
       "  53.5488,320.21 54.0814,320.279 54.614,320.28 55.1467,320.28 55.6793,298.153 56.2119,349.327 56.7445,317.212 57.2772,355.914 57.8098,359.641 58.3424,327.32 \n",
       "  58.875,304.635 59.4077,287.578 59.9403,288.035 60.4729,352.756 61.0055,353.609 61.5382,303.293 62.0708,307.36 62.6034,307.416 63.136,284.434 63.6687,284.925 \n",
       "  64.2013,284.932 64.7339,267.113 65.2665,284.687 65.7992,280.188 66.3318,280.57 66.8644,280.576 67.397,275.495 67.9297,274.901 68.4623,274.929 68.9949,258.141 \n",
       "  69.5275,293.04 70.0602,302.169 70.5928,284.828 71.1254,285.567 71.658,285.577 72.1907,285.577 72.7233,285.577 73.2559,277.043 73.7885,276.032 74.3212,276.103 \n",
       "  74.8538,276.104 75.3864,276.104 75.919,274.009 76.4517,257.221 76.9843,273.782 77.5169,256.134 78.0495,273.767 78.5822,276.818 79.1148,277.163 79.6474,277.322 \n",
       "  80.18,274.731 80.7127,257.727 81.2453,293.065 81.7779,272.982 82.3105,302.009 82.8432,286.514 83.3758,284.616 83.9084,348.085 84.441,325.105 84.9737,348.836 \n",
       "  85.5063,302.917 86.0389,307.918 86.5715,307.987 87.1042,307.988 87.6368,287.493 88.1694,307.706 88.702,307.984 89.2347,307.988 89.7673,284.496 90.2999,346.681 \n",
       "  90.8325,325.854 91.3652,348.405 91.8978,348.715 92.4304,348.719 92.963,348.719 93.4957,300.202 94.0283,292.365 94.5609,291.436 95.0935,291.329 95.6262,295.334 \n",
       "  96.1588,295.389 96.6914,276.354 97.224,349.593 97.7567,358.269 98.2893,359.508 98.8219,359.524 99.3545,328.469 99.8872,359.098 100.42,359.849 100.952,360.087 \n",
       "  101.485,360.09 102.018,360.09 102.55,309.006 103.083,297.932 103.616,305.503 104.148,305.607 104.681,349.065 105.213,351.618 105.746,324.371 106.279,342.424 \n",
       "  106.811,311.529 107.344,359.355 107.877,360.004 108.409,360.012 108.942,308.698 109.474,314.386 110.007,314.464 110.54,286.884 111.072,287.619 111.605,287.628 \n",
       "  112.138,287.629 112.67,287.629 113.203,277.707 113.735,277.785 114.268,277.786 114.801,277.786 115.333,260.749 115.866,277.552 116.399,259.495 116.931,247.469 \n",
       "  117.464,277.378 117.996,259.078 118.529,277.529 119.062,259.434 119.594,277.534 120.127,277.782 120.66,277.786 121.192,260.733 121.725,293.71 122.257,303.365 \n",
       "  122.79,303.498 123.323,303.499 123.855,303.499 124.388,348.461 124.921,351.248 125.453,351.283 125.986,351.283 126.518,351.283 127.051,301.51 127.584,304.854 \n",
       "  128.116,304.899 128.649,304.9 129.182,304.9 129.714,283.405 130.247,280.699 130.779,281.192 131.312,281.198 131.845,343.331 132.377,285.962 132.91,343.9 \n",
       "  133.443,327.356 133.975,303.843 134.508,347.732 135.04,348.325 135.573,300.438 136.106,278.345 136.638,299.474 137.171,318.225 137.704,291.074 138.236,349.879 \n",
       "  138.769,325.172 139.301,303.296 139.834,349.786 140.367,304.302 140.899,281.863 141.432,310.093 141.965,310.478 142.497,310.483 143.03,289.656 143.562,274.107 \n",
       "  144.095,309.993 144.628,289.472 145.16,291.191 145.693,346.22 146.226,349.334 146.758,349.373 147.291,300.414 147.823,303.434 148.356,282.989 148.889,303.195 \n",
       "  149.421,286.257 149.954,287.305 150.487,345.2 151.019,348.671 151.552,348.714 152.084,348.714 152.617,321.606 153.15,348.342 153.682,348.709 154.215,300.532 \n",
       "  154.748,303.75 155.28,283.249 155.813,303.512 156.345,286.364 156.878,287.427 157.411,287.441 157.943,287.441 158.476,269.369 159.009,287.193 159.541,287.438 \n",
       "  160.074,287.441 160.606,287.441 161.139,277.651 161.672,277.726 162.204,274.756 162.737,274.769 163.27,274.769 163.802,274.769 164.335,258.045 164.867,274.54 \n",
       "  165.4,276.944 165.933,259.085 166.465,293.819 166.998,303.858 167.531,303.997 168.063,283.386 168.596,283.798 169.128,265.938 169.661,252.828 170.194,283.386 \n",
       "  170.726,264.409 171.259,252.177 171.792,296.711 172.324,300.949 172.857,317.44 173.389,317.667 173.922,295.75 174.455,279.56 174.987,317.156 175.52,317.663 \n",
       "  176.053,288.315 176.585,268.307 177.118,348.729 177.65,351.82 178.183,323.276 178.716,351.47 179.248,304.39 179.781,296.64 180.314,303.518 180.846,284.963 \n",
       "  181.379,282.658 181.911,263.376 182.444,283.231 182.977,283.503 183.509,344.083 184.042,286.894 184.575,286.896 185.107,286.896 185.64,268.888 186.172,255.416 \n",
       "  186.705,286.472 187.238,286.89 187.77,286.896 188.303,268.865 188.836,295.786 189.368,307.309 189.901,307.468 190.433,349.511 190.966,351.928 191.499,324.581 \n",
       "  192.031,303.88 192.564,339.999 193.097,348.408 193.629,317.905 194.162,350.233 194.694,350.676 195.227,350.681 195.76,358.459 196.292,358.777 196.825,358.781 \n",
       "  197.358,306.651 197.89,311.542 198.423,311.609 198.955,311.61 199.488,311.61 200.021,350.283 200.553,352.575 201.086,352.604 201.619,352.605 202.151,302.224 \n",
       "  202.684,305.757 203.216,284.98 203.749,305.52 204.282,287.032 204.814,288.191 205.347,288.207 205.88,270.017 206.412,287.958 206.945,281.242 207.477,281.714 \n",
       "  208.01,343.743 208.543,347.721 209.075,347.771 209.608,347.771 210.141,347.771 210.673,299.735 211.206,302.628 211.738,302.668 212.271,302.668 212.804,282.672 \n",
       "  213.336,283.01 213.869,283.015 214.402,276.273 214.934,276.311 215.467,276.312 215.999,315.995 216.532,320.932 217.065,290.54 217.597,291.963 218.13,291.983 \n",
       "  218.663,279.233 219.195,261.193 219.728,279.128 220.26,279.374 220.793,279.377 221.326,279.377 221.858,342.864 222.391,347.279 222.924,347.333 223.456,299.395 \n",
       "  223.989,291.758 224.521,295.339 225.054,275.825 225.587,295.12 226.119,275.006 226.652,261.632 227.185,298.307 227.717,319.533 228.25,319.825 228.782,319.829 \n",
       "  229.315,319.829 229.848,297.764 230.38,319.526 230.913,296.14 231.446,319.504 231.978,319.824 232.511,288.972 233.043,289.982 233.576,289.996 234.109,289.996 \n",
       "  234.641,289.996 235.174,271.645 235.707,296.455 236.239,308.653 236.772,350.914 237.304,295.3 237.837,285.565 238.37,286.761 238.902,286.777 239.435,344.662 \n",
       "  239.968,348.508 240.5,322.169 241.033,348.194 241.565,348.551 242.098,348.556 242.631,300.156 243.163,303.167 243.696,303.208 244.229,348.475 244.761,351.215 \n",
       "  245.294,300.594 245.826,292.12 246.359,291.112 246.892,270.277 247.424,294.638 247.957,294.971 248.49,280.56 249.022,280.788 249.555,263.299 250.087,294.44 \n",
       "  250.62,274.463 251.153,299.574 251.685,349.297 252.218,356.544 252.751,356.643 253.283,356.645 253.816,327.182 254.348,305.16 254.881,355.951 255.414,324.329 \n",
       "  255.946,356.202 256.479,356.639 257.012,356.645 257.544,327.166 258.077,305.153 258.609,355.951 259.142,356.635 259.675,305.199 260.207,309.848 260.74,288.466 \n",
       "  261.273,300.338 261.805,301.624 262.338,319.074 262.87,319.314 263.403,319.317 263.936,319.317 264.468,288.393 265.001,289.276 265.534,270.727 266.066,289.033 \n",
       "  266.599,289.285 267.131,289.288 267.664,289.288 268.197,345.193 268.729,348.912 269.262,322.466 269.795,348.594 270.327,348.953 270.86,321.561 271.392,301.358 \n",
       "  271.925,348.317 272.458,348.95 272.99,348.958 273.523,321.749 274.056,303.896 274.588,338.242 275.121,338.71 275.653,338.716 276.186,295.79 276.719,297.838 \n",
       "  277.251,297.866 277.784,297.866 278.317,297.866 278.849,278.614 279.382,297.602 279.914,348.881 280.447,356.207 280.98,301.906 281.512,304.287 282.045,349.254 \n",
       "  282.578,351.5 283.11,351.528 283.643,323.767 284.175,302.918 284.708,295.605 285.241,291.454 285.773,347.579 286.306,318.431 286.839,299.866 287.371,347.684 \n",
       "  287.904,358.692 288.436,358.7 288.969,358.7 289.502,328.275 290.034,305.521 290.567,296.76 291.1,357.874 291.632,359.606 292.165,310.66 292.697,319.353 \n",
       "  293.23,319.472 293.763,319.474 294.295,352.03 294.828,353.858 295.361,353.881 295.893,359.022 296.426,359.243 296.958,307.027 297.491,311.932 298.024,311.999 \n",
       "  298.556,312 299.089,312 299.622,335.408 300.154,357.281 300.687,357.479 301.219,305.668 301.752,296.011 302.285,302.091 302.817,281.607 303.35,298.992 \n",
       "  303.883,300.833 304.415,351.806 304.948,355.459 305.48,355.509 306.013,326.397 306.546,303.092 307.078,343.066 307.611,343.607 308.144,343.615 308.676,317.583 \n",
       "  309.209,343.257 309.741,343.61 310.274,357.199 310.807,357.726 311.339,357.733 311.872,357.733 312.405,357.733 312.937,327.818 313.47,302.464 314.002,292.925 \n",
       "  314.535,295.244 315.068,295.505 315.6,295.535 316.133,346.227 316.666,346.905 317.198,346.914 317.731,320.177 318.263,346.547 318.796,302.035 319.329,279.769 \n",
       "  319.861,347.542 320.394,354.716 320.927,304.847 321.459,309.905 321.992,286.793 322.524,266.99 323.057,287.422 323.59,287.702 324.122,287.705 324.655,269.59 \n",
       "  325.188,287.457 325.72,281.079 326.253,281.536 326.785,276.307 327.318,275.695 327.851,275.625 328.383,275.617 328.916,275.676 329.449,275.676 329.981,275.676 \n",
       "  330.514,273.873 331.046,273.875 331.579,257.229 332.112,348.093 332.644,349.156 333.177,300.988 333.71,304.419 334.242,304.465 334.775,283.424 335.307,280.781 \n",
       "  335.84,281.288 336.373,263.678 336.905,281.053 337.438,262.6 337.971,250.318 338.503,280.878 339.036,281.289 339.568,281.294 340.101,263.868 340.634,281.055 \n",
       "  341.166,281.291 341.699,281.294 342.232,281.294 342.764,343.317 343.297,347.595 343.829,298.5 344.362,300.749 344.895,280.702 345.427,349.632 345.96,353.49 \n",
       "  346.493,353.542 347.025,356.94 347.558,357.184 348.09,357.187 348.623,305.249 349.156,295.633 349.688,294.481 350.221,273.447 350.754,347.513 351.286,353.809 \n",
       "  351.819,359.297 352.351,306.64 352.884,283.679 353.417,310.795 353.949,311.165 354.482,290.079 355.015,310.881 355.547,311.166 356.08,311.17 356.612,290.258 \n",
       "  357.145,310.883 357.678,311.166 358.21,290.104 358.743,310.881 359.276,311.166 359.808,285.936 360.341,286.591 360.873,268.378 361.406,349.104 361.939,351.24 \n",
       "  362.471,351.269 363.004,351.269 363.537,301.513 364.069,304.862 364.602,284.212 365.134,304.624 365.667,304.904 366.2,304.908 366.732,304.908 367.265,284.808 \n",
       "  367.798,269.772 368.33,263.983 368.863,304.362 369.395,304.901 369.928,284.573 370.461,299.444 370.993,315.51 371.526,292.86 372.059,277.565 372.591,315.22 \n",
       "  373.124,315.727 373.656,287.64 374.189,288.498 374.722,270.04 375.254,256.597 375.787,288.08 376.32,288.504 376.852,288.51 377.385,288.51 377.917,322.693 \n",
       "  378.45,297.175 378.983,326.329 379.515,294.531 380.048,273.262 380.581,298.415 381.113,315.019 381.646,315.248 382.178,287.302 382.711,267.508 383.244,287.829 \n",
       "  383.776,268.544 384.309,348.954 384.842,351.558 385.374,351.594 385.907,351.594 386.439,323.744 386.972,351.212 387.505,304.229 388.037,353.494 388.57,323.655 \n",
       "  389.103,339.576 389.635,359.824 390.168,310.7 390.7,287.638 391.233,276.873 391.766,299.494 392.298,331.932 392.831,332.374 393.364,293.651 393.896,288.156 \n",
       "  394.429,267.754 394.961,290.066 395.494,290.371 396.027,290.375 396.559,278.65 397.092,277.241 397.625,277.079 398.157,277.224 398.69,274.686 399.222,274.393 \n",
       "  399.755,274.359 400.288,342.198 400.82,353.99 401.353,298.007 401.886,287.776 402.418,289.562 402.951,279.422 403.483,279.617 404.016,279.62 404.549,317.8 \n",
       "  405.081,293.102 405.614,280.43 406.147,321.984 406.679,322.542 407.212,322.549 407.744,352.714 408.277,354.359 408.81,354.38 409.342,303.207 409.875,280.721 \n",
       "  410.408,306.68 410.94,287.803 411.473,289.138 412.005,289.156 412.538,270.858 413.071,291.007 413.603,279.554 414.136,321.808 414.669,322.374 415.201,299.7 \n",
       "  415.734,283.068 416.266,289.173 416.799,298.093 417.332,340.753 417.864,300.403 418.397,294.452 418.93,293.752 419.462,299.223 419.995,299.298 420.527,281.745 \n",
       "  421.06,282.032 421.593,282.036 422.125,282.036 422.658,275.909 423.191,275.191 423.723,257.971 424.256,274.991 424.788,275.224 425.321,275.227 425.854,341.903 \n",
       "  426.386,284.499 426.919,284.562 427.452,284.563 427.984,276.692 428.517,275.763 429.049,275.656 429.582,343.011 430.115,346.853 430.647,346.9 431.18,346.901 \n",
       "  431.713,346.901 432.245,320.202 432.778,346.535 433.31,346.896 433.843,346.901 434.376,346.901 434.908,346.901 435.441,320.201 435.974,303.976 436.506,336.911 \n",
       "  437.039,337.36 437.571,337.366 438.104,355.832 438.637,330.281 439.169,304.104 439.702,337.475 440.235,359.301 440.767,326.599 441.3,359.153 441.832,359.6 \n",
       "  442.365,328.261 442.898,359.176 443.43,359.844 443.963,310.563 444.496,287.489 445.028,318.338 445.561,291.92 446.093,294.05 446.626,294.079 447.159,294.079 \n",
       "  447.691,294.079 448.224,275.266 448.757,293.821 449.289,294.076 449.822,294.079 450.354,294.079 450.887,275.265 451.42,293.821 451.952,294.076 452.485,294.079 \n",
       "  453.018,275.249 453.55,293.821 454.083,283.139 454.615,283.798 455.148,265.89 455.681,348.914 456.213,350.79 456.746,301.994 457.279,293.954 457.811,298.756 \n",
       "  458.344,283.077 458.876,264.029 459.409,283.318 459.942,279.919 460.474,279.525 461.007,279.91 461.54,279.915 462.072,262.636 462.605,286.386 463.137,317.651 \n",
       "  463.67,318.076 464.203,288.417 464.735,268.392 465.268,296.759 465.801,352.008 466.333,354.515 466.866,354.549 467.398,354.549 467.931,303.396 468.464,307.271 \n",
       "  468.996,307.324 469.529,307.325 470.062,307.325 470.594,286.924 471.127,307.045 471.659,307.321 472.192,284.622 472.725,281.746 473.257,282.398 473.79,282.407 \n",
       "  474.323,264.857 474.855,282.166 475.388,282.404 475.92,343.809 476.453,326.752 476.986,347.577 477.518,347.864 478.051,347.868 478.584,320.926 479.116,321.805 \n",
       "  479.649,350.674 480.181,304.032 480.714,281.559 481.247,270.464 481.779,266.496 482.312,309.092 482.845,286.774 483.377,300.335 483.91,318.971 484.442,295.751 \n",
       "  484.975,318.908 485.508,295.577 486.04,301.716 486.573,323.137 487.106,292.942 487.638,271.937 488.171,298.02 488.703,279.257 489.236,313.555 489.769,314.018 \n",
       "  490.301,292.532 490.834,313.73 491.367,291.181 491.899,313.711 492.432,291.132 492.964,313.711 493.497,314.02 494.03,314.025 494.562,314.025 495.095,314.025 \n",
       "  495.628,350.819 496.16,352.969 496.693,325.299 497.225,352.616 497.758,322.704 498.291,352.581 498.823,352.991 499.356,324.522 499.889,303.54 500.421,352.33 \n",
       "  500.954,352.988 501.486,324.456 502.019,303.448 502.552,291.868 503.084,341.028 503.617,341.685 504.15,315.781 504.682,303.869 505.215,333.957 505.747,334.368 \n",
       "  506.28,334.374 506.813,334.374 507.345,310.075 507.878,334.04 508.411,308.287 508.943,334.016 509.476,334.369 510.008,294.376 510.541,273.258 511.074,289.794 \n",
       "  511.606,324.774 512.139,300.307 512.672,324.912 513.204,293.767 513.737,289.577 514.269,289.088 514.802,291.968 515.335,292.007 515.867,292.008 516.4,273.424 \n",
       "  516.933,291.753 517.465,292.005 517.998,292.008 518.53,273.413 519.063,291.753 519.596,282.468 520.128,281.363 520.661,282.001 521.194,282.009 521.726,343.527 \n",
       "  522.259,347.72 522.791,321.594 523.324,347.413 523.857,347.767 524.389,347.772 524.922,299.776 525.455,277.79 525.987,302.393 526.52,302.729 527.052,282.716 \n",
       "  527.585,299.04 528.118,314.482 528.65,314.694 529.183,293.188 529.716,277.296 530.248,314.193 530.781,314.691 531.313,293.106 531.846,277.261 532.379,314.193 \n",
       "  532.911,314.691 533.444,314.697 533.977,314.697 534.509,350.971 535.042,294.126 535.574,294.515 536.107,275.464 536.64,294.259 537.172,294.517 537.705,280.357 \n",
       "  538.238,280.57 538.77,280.573 539.303,263.23 539.835,294.36 540.368,304.561 540.901,283.574 541.433,297.66 541.966,285.055 542.499,299.163 543.031,339.579 \n",
       "  543.564,344.392 544.096,359.788 544.629,360 545.162,327.349 545.694,299.374 546.227,299.385 546.76,350.883 547.292,320.941 547.825,351.163 548.357,351.577 \n",
       "  548.89,323.502 549.423,351.198 549.955,321.684 550.488,302.037 551.021,327.12 551.553,359.664 552.086,325.778 552.618,359.646 553.151,360.111 553.684,360.117 \n",
       "  554.216,360.117 554.749,360.117 555.282,360.121 555.814,360.121 556.347,328.124 556.879,330.855 557.412,358.773 557.945,323.673 558.477,358.676 559.01,359.156 \n",
       "  559.543,359.162 560.075,359.162 560.608,359.162 561.14,325.931 561.673,301.072 562.206,358.38 562.738,359.152 563.271,325.569 563.804,358.701 564.336,359.156 \n",
       "  564.869,359.162 565.401,325.899 565.934,358.706 566.467,312.951 566.999,301.677 567.532,314.309 568.065,314.483 568.597,286.992 569.13,287.75 569.662,287.76 \n",
       "  570.195,287.76 570.728,287.76 571.26,344.834 571.793,348.66 572.326,348.707 572.858,348.708 573.391,348.708 573.923,300.19 574.456,303.195 574.989,349.089 \n",
       "  575.521,292.635 576.054,292.898 576.587,292.902 577.119,292.902 577.652,274.222 578.184,260.25 578.717,292.462 579.25,283.717 579.782,347.217 580.315,355.502 \n",
       "  \n",
       "  \"/>\n",
       "</svg>\n"
      ]
     },
     "execution_count": 32,
     "metadata": {},
     "output_type": "execute_result"
    }
   ],
   "source": [
    "plot(re[1:1000], xlabel=\"Stretch\", ylabel=\"Relative Entropy (nats)\", legend=false)"
   ]
  }
 ],
 "metadata": {
  "kernelspec": {
   "display_name": "Julia 0.6.2",
   "language": "julia",
   "name": "julia-0.6"
  },
  "language_info": {
   "file_extension": ".jl",
   "mimetype": "application/julia",
   "name": "julia",
   "version": "0.6.2"
  }
 },
 "nbformat": 4,
 "nbformat_minor": 2
}
